{
 "cells": [
  {
   "cell_type": "code",
   "execution_count": 3,
   "metadata": {},
   "outputs": [],
   "source": [
    "from __future__ import annotations\n",
    "\n",
    "from dataclasses import dataclass, field\n",
    "from datetime import date\n",
    "from typing import List, Optional\n",
    "\n",
    "@dataclass\n",
    "class User:\n",
    "    id: int\n",
    "    name: str\n",
    "    transactions: List[Transaction] = field(init=False)\n",
    "\n",
    "\n",
    "@dataclass\n",
    "class Transaction:\n",
    "    id: int = field(init=False, repr=False)\n",
    "    value: float\n",
    "    date_transaction: date\n",
    "    type: int\n",
    "    user: User = field(repr=False)\n",
    "    file_name: Optional[str]\n",
    "    description: Optional[str] = field(default=None)\n",
    "    user_id: Optional[int] = field(init=False, repr=False)\n",
    "\n",
    "\n",
    "\n",
    "user_1 = User(id=10, name=\"Student\")"
   ]
  },
  {
   "cell_type": "code",
   "execution_count": 12,
   "metadata": {},
   "outputs": [],
   "source": [
    "transaction = Transaction(value=10, date_transaction=date.today(), type=2, user=user_1, file_name=None)"
   ]
  }
 ],
 "metadata": {
  "kernelspec": {
   "display_name": "chalmers",
   "language": "python",
   "name": "python3"
  },
  "language_info": {
   "codemirror_mode": {
    "name": "ipython",
    "version": 3
   },
   "file_extension": ".py",
   "mimetype": "text/x-python",
   "name": "python",
   "nbconvert_exporter": "python",
   "pygments_lexer": "ipython3",
   "version": "3.10.10"
  },
  "orig_nbformat": 4
 },
 "nbformat": 4,
 "nbformat_minor": 2
}
